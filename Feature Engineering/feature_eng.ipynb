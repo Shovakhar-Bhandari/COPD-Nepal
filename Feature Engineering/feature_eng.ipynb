{
 "cells": [
  {
   "cell_type": "markdown",
   "metadata": {},
   "source": [
    "# Featured Engineering Based on Scaling and Encoding\n",
    "# Step 1: Import necessary libraries and data"
   ]
  },
  {
   "cell_type": "code",
   "execution_count": 45,
   "metadata": {},
   "outputs": [],
   "source": [
    "# Necessary Libraries\n",
    "import pandas as pd\n",
    "from sklearn.preprocessing import LabelEncoder, StandardScaler\n",
    "from sklearn.feature_selection import RFE\n",
    "from sklearn.linear_model import LogisticRegression"
   ]
  },
  {
   "cell_type": "code",
   "execution_count": 46,
   "metadata": {},
   "outputs": [
    {
     "name": "stdout",
     "output_type": "stream",
     "text": [
      "<class 'pandas.core.frame.DataFrame'>\n",
      "RangeIndex: 1000 entries, 0 to 999\n",
      "Data columns (total 11 columns):\n",
      " #   Column                            Non-Null Count  Dtype  \n",
      "---  ------                            --------------  -----  \n",
      " 0   Age                               1000 non-null   int64  \n",
      " 1   Gender                            1000 non-null   object \n",
      " 2   Smoking_Status                    1000 non-null   object \n",
      " 3   Biomass_Fuel_Exposure             1000 non-null   int64  \n",
      " 4   Occupational_Exposure             1000 non-null   int64  \n",
      " 5   Family_History_COPD               1000 non-null   int64  \n",
      " 6   BMI                               1000 non-null   float64\n",
      " 7   Location                          1000 non-null   object \n",
      " 8   Air_Pollution_Level               1000 non-null   int64  \n",
      " 9   Respiratory_Infections_Childhood  1000 non-null   int64  \n",
      " 10  COPD_Diagnosis                    1000 non-null   int64  \n",
      "dtypes: float64(1), int64(7), object(3)\n",
      "memory usage: 86.1+ KB\n"
     ]
    }
   ],
   "source": [
    "#Importing the data \n",
    "data = pd.read_csv('../Data/synthetic_COPD_data.csv') \n",
    "\n",
    "data.info()"
   ]
  },
  {
   "cell_type": "markdown",
   "metadata": {},
   "source": [
    "# Step 2: Encode categorical variables\n"
   ]
  },
  {
   "cell_type": "code",
   "execution_count": 47,
   "metadata": {},
   "outputs": [],
   "source": [
    "label_encoder = LabelEncoder()\n",
    "data['Gender'] = label_encoder.fit_transform(data['Gender'])\n",
    "data['Smoking_Status'] = label_encoder.fit_transform(data['Smoking_Status'])\n",
    "data['Location'] = label_encoder.fit_transform(data['Location'])\n",
    "\n",
    "\n",
    "# One-hot encode Location\n",
    "data = pd.get_dummies(data, columns=['Location'], drop_first=True)"
   ]
  },
  {
   "cell_type": "markdown",
   "metadata": {},
   "source": [
    "# Step 6: Create interaction features"
   ]
  },
  {
   "cell_type": "code",
   "execution_count": 48,
   "metadata": {},
   "outputs": [],
   "source": [
    "data['Age_BMI_Interaction'] = data['Age'] * data['BMI']\n",
    "data['Biomass_Fuel_Smoking_Interaction'] = data['Biomass_Fuel_Exposure'] * data['Smoking_Status']"
   ]
  },
  {
   "cell_type": "markdown",
   "metadata": {},
   "source": [
    "# Step 7: Normalize numerical features"
   ]
  },
  {
   "cell_type": "code",
   "execution_count": 49,
   "metadata": {},
   "outputs": [],
   "source": [
    "scaler = StandardScaler()\n",
    "numerical_features = ['Age', 'Biomass_Fuel_Exposure', 'Occupational_Exposure',\n",
    "                     'Family_History_COPD', 'BMI', 'Air_Pollution_Level',\n",
    "                     'Respiratory_Infections_Childhood']\n",
    "data[numerical_features] = scaler.fit_transform(data[numerical_features])"
   ]
  },
  {
   "cell_type": "code",
   "execution_count": 50,
   "metadata": {},
   "outputs": [],
   "source": [
    "# Ensure target variable is binary\n",
    "data['COPD_Diagnosis'] = data['COPD_Diagnosis'].astype(int)\n",
    "\n",
    "# Verify shape before fitting RFE\n",
    "X = data.drop('COPD_Diagnosis', axis=1)\n",
    "y = data['COPD_Diagnosis']"
   ]
  },
  {
   "cell_type": "markdown",
   "metadata": {},
   "source": [
    "# Step 9: Feature selection"
   ]
  },
  {
   "cell_type": "code",
   "execution_count": 51,
   "metadata": {},
   "outputs": [
    {
     "name": "stderr",
     "output_type": "stream",
     "text": [
      "/media/puskar/Academics/AI/Python/venv/lib/python3.12/site-packages/sklearn/linear_model/_logistic.py:469: ConvergenceWarning: lbfgs failed to converge (status=1):\n",
      "STOP: TOTAL NO. of ITERATIONS REACHED LIMIT.\n",
      "\n",
      "Increase the number of iterations (max_iter) or scale the data as shown in:\n",
      "    https://scikit-learn.org/stable/modules/preprocessing.html\n",
      "Please also refer to the documentation for alternative solver options:\n",
      "    https://scikit-learn.org/stable/modules/linear_model.html#logistic-regression\n",
      "  n_iter_i = _check_optimize_result(\n"
     ]
    }
   ],
   "source": [
    "model = LogisticRegression()\n",
    "rfe = RFE(model, n_features_to_select=5)\n",
    "fit = rfe.fit(X, y)"
   ]
  },
  {
   "cell_type": "code",
   "execution_count": 52,
   "metadata": {},
   "outputs": [
    {
     "name": "stdout",
     "output_type": "stream",
     "text": [
      "Selected Features:  ['Smoking_Status', 'Biomass_Fuel_Exposure', 'Family_History_COPD', 'Location_1', 'Location_6']\n"
     ]
    }
   ],
   "source": [
    "if len(data.columns) - 1 == len(fit.support_):\n",
    "    selected_features = X.columns[fit.support_].tolist()\n",
    "    print(\"Selected Features: \", selected_features)\n",
    "else:\n",
    "    print(\"Mismatch in feature selection; check the number of features and RFE output.\")\n"
   ]
  },
  {
   "cell_type": "markdown",
   "metadata": {},
   "source": [
    "# Step 11: Save the transformed DataFrame to a CSV file"
   ]
  },
  {
   "cell_type": "code",
   "execution_count": 53,
   "metadata": {},
   "outputs": [],
   "source": [
    "output_file = 'featured_data.csv'  \n",
    "data.to_csv(output_file, index=False)"
   ]
  }
 ],
 "metadata": {
  "kernelspec": {
   "display_name": "venv",
   "language": "python",
   "name": "python3"
  },
  "language_info": {
   "codemirror_mode": {
    "name": "ipython",
    "version": 3
   },
   "file_extension": ".py",
   "mimetype": "text/x-python",
   "name": "python",
   "nbconvert_exporter": "python",
   "pygments_lexer": "ipython3",
   "version": "3.12.3"
  }
 },
 "nbformat": 4,
 "nbformat_minor": 2
}
