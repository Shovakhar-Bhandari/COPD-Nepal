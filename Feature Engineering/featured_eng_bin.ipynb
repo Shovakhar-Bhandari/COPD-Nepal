{
 "cells": [
  {
   "cell_type": "markdown",
   "metadata": {},
   "source": [
    "## Import Libraries"
   ]
  },
  {
   "cell_type": "code",
   "execution_count": 52,
   "metadata": {},
   "outputs": [],
   "source": [
    "import pandas as pd\n",
    "import numpy as np"
   ]
  },
  {
   "cell_type": "markdown",
   "metadata": {},
   "source": [
    "## Load the Data"
   ]
  },
  {
   "cell_type": "code",
   "execution_count": 53,
   "metadata": {},
   "outputs": [
    {
     "name": "stdout",
     "output_type": "stream",
     "text": [
      "Data loaded successfully.\n"
     ]
    },
    {
     "data": {
      "text/html": [
       "<div>\n",
       "<style scoped>\n",
       "    .dataframe tbody tr th:only-of-type {\n",
       "        vertical-align: middle;\n",
       "    }\n",
       "\n",
       "    .dataframe tbody tr th {\n",
       "        vertical-align: top;\n",
       "    }\n",
       "\n",
       "    .dataframe thead th {\n",
       "        text-align: right;\n",
       "    }\n",
       "</style>\n",
       "<table border=\"1\" class=\"dataframe\">\n",
       "  <thead>\n",
       "    <tr style=\"text-align: right;\">\n",
       "      <th></th>\n",
       "      <th>Age</th>\n",
       "      <th>Gender</th>\n",
       "      <th>Smoking_Status</th>\n",
       "      <th>Biomass_Fuel_Exposure</th>\n",
       "      <th>Occupational_Exposure</th>\n",
       "      <th>Family_History_COPD</th>\n",
       "      <th>BMI</th>\n",
       "      <th>Location</th>\n",
       "      <th>Air_Pollution_Level</th>\n",
       "      <th>Respiratory_Infections_Childhood</th>\n",
       "      <th>COPD_Diagnosis</th>\n",
       "    </tr>\n",
       "  </thead>\n",
       "  <tbody>\n",
       "    <tr>\n",
       "      <th>0</th>\n",
       "      <td>31</td>\n",
       "      <td>Male</td>\n",
       "      <td>Former</td>\n",
       "      <td>1</td>\n",
       "      <td>1</td>\n",
       "      <td>1</td>\n",
       "      <td>27.56</td>\n",
       "      <td>Lalitpur</td>\n",
       "      <td>84</td>\n",
       "      <td>0</td>\n",
       "      <td>0</td>\n",
       "    </tr>\n",
       "    <tr>\n",
       "      <th>1</th>\n",
       "      <td>60</td>\n",
       "      <td>Male</td>\n",
       "      <td>Never</td>\n",
       "      <td>1</td>\n",
       "      <td>0</td>\n",
       "      <td>0</td>\n",
       "      <td>30.30</td>\n",
       "      <td>Pokhara</td>\n",
       "      <td>131</td>\n",
       "      <td>1</td>\n",
       "      <td>0</td>\n",
       "    </tr>\n",
       "    <tr>\n",
       "      <th>2</th>\n",
       "      <td>33</td>\n",
       "      <td>Male</td>\n",
       "      <td>Former</td>\n",
       "      <td>0</td>\n",
       "      <td>0</td>\n",
       "      <td>1</td>\n",
       "      <td>28.45</td>\n",
       "      <td>Pokhara</td>\n",
       "      <td>123</td>\n",
       "      <td>1</td>\n",
       "      <td>0</td>\n",
       "    </tr>\n",
       "    <tr>\n",
       "      <th>3</th>\n",
       "      <td>36</td>\n",
       "      <td>Female</td>\n",
       "      <td>Current</td>\n",
       "      <td>1</td>\n",
       "      <td>0</td>\n",
       "      <td>0</td>\n",
       "      <td>27.49</td>\n",
       "      <td>Kathmandu</td>\n",
       "      <td>253</td>\n",
       "      <td>0</td>\n",
       "      <td>1</td>\n",
       "    </tr>\n",
       "    <tr>\n",
       "      <th>4</th>\n",
       "      <td>58</td>\n",
       "      <td>Male</td>\n",
       "      <td>Never</td>\n",
       "      <td>0</td>\n",
       "      <td>0</td>\n",
       "      <td>0</td>\n",
       "      <td>25.49</td>\n",
       "      <td>Pokhara</td>\n",
       "      <td>117</td>\n",
       "      <td>1</td>\n",
       "      <td>0</td>\n",
       "    </tr>\n",
       "  </tbody>\n",
       "</table>\n",
       "</div>"
      ],
      "text/plain": [
       "   Age  Gender Smoking_Status  Biomass_Fuel_Exposure  Occupational_Exposure  \\\n",
       "0   31    Male         Former                      1                      1   \n",
       "1   60    Male          Never                      1                      0   \n",
       "2   33    Male         Former                      0                      0   \n",
       "3   36  Female        Current                      1                      0   \n",
       "4   58    Male          Never                      0                      0   \n",
       "\n",
       "   Family_History_COPD    BMI   Location  Air_Pollution_Level  \\\n",
       "0                    1  27.56   Lalitpur                   84   \n",
       "1                    0  30.30    Pokhara                  131   \n",
       "2                    1  28.45    Pokhara                  123   \n",
       "3                    0  27.49  Kathmandu                  253   \n",
       "4                    0  25.49    Pokhara                  117   \n",
       "\n",
       "   Respiratory_Infections_Childhood  COPD_Diagnosis  \n",
       "0                                 0               0  \n",
       "1                                 1               0  \n",
       "2                                 1               0  \n",
       "3                                 0               1  \n",
       "4                                 1               0  "
      ]
     },
     "execution_count": 53,
     "metadata": {},
     "output_type": "execute_result"
    }
   ],
   "source": [
    "path = r'../Data/synthetic_COPD_data.csv'\n",
    "try:\n",
    "    df = pd.read_csv(path)\n",
    "    print(\"Data loaded successfully.\")\n",
    "except Exception as e:\n",
    "    print(f\"Error loading data: {e}\")\n",
    "\n",
    "df.head()"
   ]
  },
  {
   "cell_type": "markdown",
   "metadata": {},
   "source": [
    "## Feature Engineering\n",
    "### Age Categories"
   ]
  },
  {
   "cell_type": "code",
   "execution_count": 54,
   "metadata": {},
   "outputs": [],
   "source": [
    "df['Age_Category'] = pd.cut(df['Age'], bins=[29, 39, 49, 59, 69, 79], \n",
    "                             labels=['30 - 39', '40 - 49', '50 - 59', '60 - 69', '70 - 79'], \n",
    "                             right=True)"
   ]
  },
  {
   "cell_type": "markdown",
   "metadata": {},
   "source": [
    "### BMI Categories"
   ]
  },
  {
   "cell_type": "code",
   "execution_count": 55,
   "metadata": {},
   "outputs": [],
   "source": [
    "df['BMI_Categories'] = pd.cut(df['BMI'], bins=[0, 18.5, 24.9, 29.9, 39], \n",
    "                               labels=['Underweight', 'Normal Weight', 'Overweight', 'Obesity'], \n",
    "                               right=True)"
   ]
  },
  {
   "cell_type": "markdown",
   "metadata": {},
   "source": [
    "### Pollution Risk Score"
   ]
  },
  {
   "cell_type": "code",
   "execution_count": 56,
   "metadata": {},
   "outputs": [],
   "source": [
    "df['Pollution_Risk_Score'] = np.where(df['Air_Pollution_Level'] > 150, 1, 0)"
   ]
  },
  {
   "cell_type": "markdown",
   "metadata": {},
   "source": [
    "### Encode Smoking Status"
   ]
  },
  {
   "cell_type": "code",
   "execution_count": 57,
   "metadata": {},
   "outputs": [],
   "source": [
    "df['Smoking_Status_encoded'] = df['Smoking_Status'].map({'Current': 1, 'Former': 0.5, 'Never': 0})\n"
   ]
  },
  {
   "cell_type": "markdown",
   "metadata": {},
   "source": [
    "### Encode Gender"
   ]
  },
  {
   "cell_type": "code",
   "execution_count": 58,
   "metadata": {},
   "outputs": [],
   "source": [
    "df['Gender_encoded'] = df['Gender'].map({'Male': 1, 'Female': 0})"
   ]
  },
  {
   "cell_type": "markdown",
   "metadata": {},
   "source": [
    "### Interaction Features"
   ]
  },
  {
   "cell_type": "code",
   "execution_count": 59,
   "metadata": {},
   "outputs": [],
   "source": [
    "df['Smoking_Pollution_interaction'] = df['Smoking_Status_encoded'] * df['Air_Pollution_Level']\n",
    "df['Age_BMI_Interaction'] = df['Age'] * df['BMI'] \n"
   ]
  },
  {
   "cell_type": "markdown",
   "metadata": {},
   "source": [
    "### One-Hot Encoding for Location"
   ]
  },
  {
   "cell_type": "code",
   "execution_count": 60,
   "metadata": {},
   "outputs": [],
   "source": [
    "df = pd.get_dummies(df, columns=['Location'], drop_first=True)\n"
   ]
  },
  {
   "cell_type": "markdown",
   "metadata": {},
   "source": [
    " ## Prepare Machine Learning Data"
   ]
  },
  {
   "cell_type": "code",
   "execution_count": 61,
   "metadata": {},
   "outputs": [],
   "source": [
    "df = df.drop(columns=['Smoking_Status', 'Age_Category', 'Pollution_Risk_Score', 'BMI_Categories', 'Gender', 'Smoking_Pollution_interaction'])\n"
   ]
  },
  {
   "cell_type": "code",
   "execution_count": 62,
   "metadata": {},
   "outputs": [
    {
     "name": "stdout",
     "output_type": "stream",
     "text": [
      "<class 'pandas.core.frame.DataFrame'>\n",
      "RangeIndex: 1000 entries, 0 to 999\n",
      "Data columns (total 20 columns):\n",
      " #   Column                            Non-Null Count  Dtype  \n",
      "---  ------                            --------------  -----  \n",
      " 0   Age                               1000 non-null   int64  \n",
      " 1   Biomass_Fuel_Exposure             1000 non-null   int64  \n",
      " 2   Occupational_Exposure             1000 non-null   int64  \n",
      " 3   Family_History_COPD               1000 non-null   int64  \n",
      " 4   BMI                               1000 non-null   float64\n",
      " 5   Air_Pollution_Level               1000 non-null   int64  \n",
      " 6   Respiratory_Infections_Childhood  1000 non-null   int64  \n",
      " 7   COPD_Diagnosis                    1000 non-null   int64  \n",
      " 8   Smoking_Status_encoded            1000 non-null   float64\n",
      " 9   Gender_encoded                    1000 non-null   int64  \n",
      " 10  Age_BMI_Interaction               1000 non-null   float64\n",
      " 11  Location_Biratnagar               1000 non-null   bool   \n",
      " 12  Location_Butwal                   1000 non-null   bool   \n",
      " 13  Location_Chitwan                  1000 non-null   bool   \n",
      " 14  Location_Dharan                   1000 non-null   bool   \n",
      " 15  Location_Hetauda                  1000 non-null   bool   \n",
      " 16  Location_Kathmandu                1000 non-null   bool   \n",
      " 17  Location_Lalitpur                 1000 non-null   bool   \n",
      " 18  Location_Nepalgunj                1000 non-null   bool   \n",
      " 19  Location_Pokhara                  1000 non-null   bool   \n",
      "dtypes: bool(9), float64(3), int64(8)\n",
      "memory usage: 94.9 KB\n"
     ]
    }
   ],
   "source": [
    "df.info()"
   ]
  },
  {
   "cell_type": "markdown",
   "metadata": {},
   "source": [
    "### Save Engineered Data"
   ]
  },
  {
   "cell_type": "code",
   "execution_count": 63,
   "metadata": {},
   "outputs": [],
   "source": [
    "output_file = 'engineered_COPD_data_bin.csv'\n",
    "df.to_csv(output_file, index=False)"
   ]
  }
 ],
 "metadata": {
  "kernelspec": {
   "display_name": "venv",
   "language": "python",
   "name": "python3"
  },
  "language_info": {
   "codemirror_mode": {
    "name": "ipython",
    "version": 3
   },
   "file_extension": ".py",
   "mimetype": "text/x-python",
   "name": "python",
   "nbconvert_exporter": "python",
   "pygments_lexer": "ipython3",
   "version": "3.12.3"
  }
 },
 "nbformat": 4,
 "nbformat_minor": 2
}
